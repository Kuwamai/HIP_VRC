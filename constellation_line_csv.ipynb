{
 "cells": [
  {
   "cell_type": "markdown",
   "metadata": {},
   "source": [
    "# constellation_line_csv\n",
    "星座線の始点、終点の位置をCSVファイルに保存する。"
   ]
  },
  {
   "cell_type": "code",
   "execution_count": 1,
   "metadata": {},
   "outputs": [],
   "source": [
    "import pandas as pd\n",
    "import numpy as np\n",
    "import matplotlib.pyplot as plt\n",
    "from PIL import Image\n",
    "import struct"
   ]
  },
  {
   "cell_type": "code",
   "execution_count": 2,
   "metadata": {
    "scrolled": true
   },
   "outputs": [
    {
     "data": {
      "text/html": [
       "<div>\n",
       "<style scoped>\n",
       "    .dataframe tbody tr th:only-of-type {\n",
       "        vertical-align: middle;\n",
       "    }\n",
       "\n",
       "    .dataframe tbody tr th {\n",
       "        vertical-align: top;\n",
       "    }\n",
       "\n",
       "    .dataframe thead th {\n",
       "        text-align: right;\n",
       "    }\n",
       "</style>\n",
       "<table border=\"1\" class=\"dataframe\">\n",
       "  <thead>\n",
       "    <tr style=\"text-align: right;\">\n",
       "      <th></th>\n",
       "      <th>name</th>\n",
       "      <th>parallax</th>\n",
       "      <th>vmag</th>\n",
       "      <th>ra_deg</th>\n",
       "      <th>dec_deg</th>\n",
       "      <th>bv_color</th>\n",
       "    </tr>\n",
       "  </thead>\n",
       "  <tbody>\n",
       "    <tr>\n",
       "      <th>0</th>\n",
       "      <td>HIP 48752</td>\n",
       "      <td>4.17</td>\n",
       "      <td>7.84</td>\n",
       "      <td>149.167261</td>\n",
       "      <td>-89.782454</td>\n",
       "      <td>0.097</td>\n",
       "    </tr>\n",
       "    <tr>\n",
       "      <th>1</th>\n",
       "      <td>HIP 71348</td>\n",
       "      <td>2.08</td>\n",
       "      <td>6.82</td>\n",
       "      <td>218.878316</td>\n",
       "      <td>-89.771696</td>\n",
       "      <td>1.698</td>\n",
       "    </tr>\n",
       "    <tr>\n",
       "      <th>2</th>\n",
       "      <td>HIP 42708</td>\n",
       "      <td>2.39</td>\n",
       "      <td>7.20</td>\n",
       "      <td>130.518546</td>\n",
       "      <td>-89.460502</td>\n",
       "      <td>1.712</td>\n",
       "    </tr>\n",
       "    <tr>\n",
       "      <th>3</th>\n",
       "      <td>HIP 78866</td>\n",
       "      <td>11.95</td>\n",
       "      <td>7.83</td>\n",
       "      <td>241.481011</td>\n",
       "      <td>-89.308449</td>\n",
       "      <td>0.412</td>\n",
       "    </tr>\n",
       "    <tr>\n",
       "      <th>4</th>\n",
       "      <td>HIP 22645</td>\n",
       "      <td>4.42</td>\n",
       "      <td>8.86</td>\n",
       "      <td>73.084128</td>\n",
       "      <td>-89.273961</td>\n",
       "      <td>0.260</td>\n",
       "    </tr>\n",
       "  </tbody>\n",
       "</table>\n",
       "</div>"
      ],
      "text/plain": [
       "         name  parallax  vmag      ra_deg    dec_deg  bv_color\n",
       "0  HIP 48752       4.17  7.84  149.167261 -89.782454     0.097\n",
       "1  HIP 71348       2.08  6.82  218.878316 -89.771696     1.698\n",
       "2  HIP 42708       2.39  7.20  130.518546 -89.460502     1.712\n",
       "3  HIP 78866      11.95  7.83  241.481011 -89.308449     0.412\n",
       "4  HIP 22645       4.42  8.86   73.084128 -89.273961     0.260"
      ]
     },
     "execution_count": 2,
     "metadata": {},
     "output_type": "execute_result"
    }
   ],
   "source": [
    "hip = pd.read_table(\"BrowseTargets.13041.1545121565\", sep=\"|\", header=2, usecols=range(1, 7), skipinitialspace=True)\n",
    "hip.head()"
   ]
  },
  {
   "cell_type": "markdown",
   "metadata": {},
   "source": [
    "# 星座線データの読み込み\n",
    "星座線の始点・終点となる星のHIP IDが入っているCSVファイルを読み込む。  \n",
    "ソースはこちら↓  \n",
    "[星座線データ - Astro Commons](http://astronomy.webcrow.jp/hip/#line)  "
   ]
  },
  {
   "cell_type": "code",
   "execution_count": 3,
   "metadata": {},
   "outputs": [
    {
     "data": {
      "text/html": [
       "<div>\n",
       "<style scoped>\n",
       "    .dataframe tbody tr th:only-of-type {\n",
       "        vertical-align: middle;\n",
       "    }\n",
       "\n",
       "    .dataframe tbody tr th {\n",
       "        vertical-align: top;\n",
       "    }\n",
       "\n",
       "    .dataframe thead th {\n",
       "        text-align: right;\n",
       "    }\n",
       "</style>\n",
       "<table border=\"1\" class=\"dataframe\">\n",
       "  <thead>\n",
       "    <tr style=\"text-align: right;\">\n",
       "      <th></th>\n",
       "      <th>name</th>\n",
       "      <th>HIP_S</th>\n",
       "      <th>HIP_E</th>\n",
       "    </tr>\n",
       "  </thead>\n",
       "  <tbody>\n",
       "    <tr>\n",
       "      <th>0</th>\n",
       "      <td>And</td>\n",
       "      <td>677</td>\n",
       "      <td>3092</td>\n",
       "    </tr>\n",
       "    <tr>\n",
       "      <th>1</th>\n",
       "      <td>And</td>\n",
       "      <td>3092</td>\n",
       "      <td>5447</td>\n",
       "    </tr>\n",
       "    <tr>\n",
       "      <th>2</th>\n",
       "      <td>And</td>\n",
       "      <td>9640</td>\n",
       "      <td>5447</td>\n",
       "    </tr>\n",
       "    <tr>\n",
       "      <th>3</th>\n",
       "      <td>And</td>\n",
       "      <td>5447</td>\n",
       "      <td>4436</td>\n",
       "    </tr>\n",
       "    <tr>\n",
       "      <th>4</th>\n",
       "      <td>And</td>\n",
       "      <td>4436</td>\n",
       "      <td>3881</td>\n",
       "    </tr>\n",
       "  </tbody>\n",
       "</table>\n",
       "</div>"
      ],
      "text/plain": [
       "  name  HIP_S  HIP_E\n",
       "0  And    677   3092\n",
       "1  And   3092   5447\n",
       "2  And   9640   5447\n",
       "3  And   5447   4436\n",
       "4  And   4436   3881"
      ]
     },
     "execution_count": 3,
     "metadata": {},
     "output_type": "execute_result"
    }
   ],
   "source": [
    "line = pd.read_csv(\"hip_constellation_line.csv\", names=(\"name\", \"HIP_S\", \"HIP_E\"))\n",
    "line.head()"
   ]
  },
  {
   "cell_type": "markdown",
   "metadata": {},
   "source": [
    "# 欠損値処理\n",
    "各項目の欠損値の数"
   ]
  },
  {
   "cell_type": "code",
   "execution_count": 4,
   "metadata": {},
   "outputs": [
    {
     "data": {
      "text/plain": [
       "name           0\n",
       "parallax     263\n",
       "vmag           1\n",
       "ra_deg       263\n",
       "dec_deg      263\n",
       "bv_color    1281\n",
       "dtype: int64"
      ]
     },
     "execution_count": 4,
     "metadata": {},
     "output_type": "execute_result"
    }
   ],
   "source": [
    "hip.isnull().sum()"
   ]
  },
  {
   "cell_type": "markdown",
   "metadata": {},
   "source": [
    "Parallaxが0以下の星は除外する。"
   ]
  },
  {
   "cell_type": "code",
   "execution_count": 5,
   "metadata": {},
   "outputs": [],
   "source": [
    "hip = hip[(hip[\"parallax\"] > 0)]"
   ]
  },
  {
   "cell_type": "markdown",
   "metadata": {},
   "source": [
    "bv_colorはなんか適当に埋めてみる。  \n",
    "とりあえず中央値で埋める。"
   ]
  },
  {
   "cell_type": "code",
   "execution_count": 6,
   "metadata": {},
   "outputs": [],
   "source": [
    "hip[\"bv_color\"] = hip[\"bv_color\"].fillna(hip[\"bv_color\"].median())"
   ]
  },
  {
   "cell_type": "markdown",
   "metadata": {},
   "source": [
    "欠けたデータを除外した後の星の数"
   ]
  },
  {
   "cell_type": "code",
   "execution_count": 7,
   "metadata": {},
   "outputs": [
    {
     "data": {
      "text/plain": [
       "113711"
      ]
     },
     "execution_count": 7,
     "metadata": {},
     "output_type": "execute_result"
    }
   ],
   "source": [
    "len(hip)"
   ]
  },
  {
   "cell_type": "markdown",
   "metadata": {},
   "source": [
    "# 座標変換\n",
    "年周視差([parallax](https://heasarc.gsfc.nasa.gov/W3Browse/star-catalog/hipparcos.html#parallax)) $pi$と距離(parsec) $D$の関係は$D = 1000 / pi$。1 parsecは3.26光年。  \n",
    "球座標系を直交座標系に変換する式はこんな感じになるはず。\n",
    "\n",
    "$$\n",
    "\\begin{eqnarray}\n",
    "x &=& \\dfrac {1000}{P_{parallax}}\\cos \\theta_{dec} \\cos \\phi_{ra} \\\\\n",
    "y &=& \\dfrac {1000}{P_{parallax}}\\cos \\theta_{dec} \\sin \\phi_{ra} \\\\\n",
    "z &=& \\dfrac {1000}{P_{parallax}}\\sin \\theta_{dec}\n",
    "\\end{eqnarray}\n",
    "$$"
   ]
  },
  {
   "cell_type": "code",
   "execution_count": 8,
   "metadata": {},
   "outputs": [],
   "source": [
    "def radec2xyz(star):\n",
    "    x = 1000 / star[\"parallax\"] * np.cos(np.deg2rad(star[\"dec_deg\"])) * np.cos(np.deg2rad(star[\"ra_deg\"]))\n",
    "    y = 1000 / star[\"parallax\"] * np.cos(np.deg2rad(star[\"dec_deg\"])) * np.sin(np.deg2rad(star[\"ra_deg\"]))\n",
    "    z = 1000 / star[\"parallax\"] * np.sin(np.deg2rad(star[\"dec_deg\"]))\n",
    "    \n",
    "    # Unityはyが上、zが前なので順序を変更\n",
    "    return [x, z, y]"
   ]
  },
  {
   "cell_type": "markdown",
   "metadata": {},
   "source": [
    "# CSVファイルの作成\n",
    "星座線の始点、終点となる星のIDを順に読み出し、星の位置を計算してリストを作成する。"
   ]
  },
  {
   "cell_type": "code",
   "execution_count": 9,
   "metadata": {},
   "outputs": [],
   "source": [
    "constellation_line = pd.DataFrame({\"xs\": [],\n",
    "                   \"ys\": [],\n",
    "                   \"zs\": [],\n",
    "                   \"xe\": [],\n",
    "                   \"ye\": [],\n",
    "                   \"ze\": [],\n",
    "                   \"name\": []})\n",
    "\n",
    "for index, i in line.iterrows():\n",
    "    try:\n",
    "        start_pos = radec2xyz(hip[hip[\"name\"].str.startswith(\"HIP \"+str(i[\"HIP_S\"])+\" \")].iloc[0])\n",
    "    except IndexError:\n",
    "        start_pos = radec2xyz(hip[hip[\"name\"].str.startswith(\"HIP \"+str(i[\"HIP_S\"]))].iloc[0])   \n",
    "    try:\n",
    "        end_pos = radec2xyz(hip[hip[\"name\"].str.startswith(\"HIP \"+str(i[\"HIP_E\"])+\" \")].iloc[0])\n",
    "    except IndexError:\n",
    "        end_pos = radec2xyz(hip[hip[\"name\"].str.startswith(\"HIP \"+str(i[\"HIP_E\"]))].iloc[0])\n",
    "    name = [i[\"name\"]]\n",
    "    constellation_line = constellation_line.append(pd.Series(start_pos+end_pos+name, index=constellation_line.columns), ignore_index=True)\n",
    "\n",
    "constellation_line.to_csv(\"constellation_line.csv\",header=False, index=False)"
   ]
  }
 ],
 "metadata": {
  "kernelspec": {
   "display_name": "Python 3",
   "language": "python",
   "name": "python3"
  },
  "language_info": {
   "codemirror_mode": {
    "name": "ipython",
    "version": 3
   },
   "file_extension": ".py",
   "mimetype": "text/x-python",
   "name": "python",
   "nbconvert_exporter": "python",
   "pygments_lexer": "ipython3",
   "version": "3.7.0"
  }
 },
 "nbformat": 4,
 "nbformat_minor": 2
}
