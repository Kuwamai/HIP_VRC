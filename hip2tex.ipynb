{
 "cells": [
  {
   "cell_type": "markdown",
   "metadata": {},
   "source": [
    "# hip2tex\n",
    "ヒッパルコス星表のデータをいい感じに処理して、Shaderで表示するためのテクスチャに変換したい。"
   ]
  },
  {
   "cell_type": "code",
   "execution_count": 1,
   "metadata": {},
   "outputs": [],
   "source": [
    "import pandas as pd\n",
    "import numpy as np\n",
    "import matplotlib.pyplot as plt\n",
    "from PIL import Image\n",
    "import struct"
   ]
  },
  {
   "cell_type": "code",
   "execution_count": 2,
   "metadata": {},
   "outputs": [
    {
     "data": {
      "text/html": [
       "<div>\n",
       "<style scoped>\n",
       "    .dataframe tbody tr th:only-of-type {\n",
       "        vertical-align: middle;\n",
       "    }\n",
       "\n",
       "    .dataframe tbody tr th {\n",
       "        vertical-align: top;\n",
       "    }\n",
       "\n",
       "    .dataframe thead th {\n",
       "        text-align: right;\n",
       "    }\n",
       "</style>\n",
       "<table border=\"1\" class=\"dataframe\">\n",
       "  <thead>\n",
       "    <tr style=\"text-align: right;\">\n",
       "      <th></th>\n",
       "      <th>name</th>\n",
       "      <th>parallax</th>\n",
       "      <th>vmag</th>\n",
       "      <th>ra_deg</th>\n",
       "      <th>dec_deg</th>\n",
       "      <th>bv_color</th>\n",
       "    </tr>\n",
       "  </thead>\n",
       "  <tbody>\n",
       "    <tr>\n",
       "      <th>0</th>\n",
       "      <td>HIP 48752</td>\n",
       "      <td>4.17</td>\n",
       "      <td>7.84</td>\n",
       "      <td>149.167261</td>\n",
       "      <td>-89.782454</td>\n",
       "      <td>0.097</td>\n",
       "    </tr>\n",
       "    <tr>\n",
       "      <th>1</th>\n",
       "      <td>HIP 71348</td>\n",
       "      <td>2.08</td>\n",
       "      <td>6.82</td>\n",
       "      <td>218.878316</td>\n",
       "      <td>-89.771696</td>\n",
       "      <td>1.698</td>\n",
       "    </tr>\n",
       "    <tr>\n",
       "      <th>2</th>\n",
       "      <td>HIP 42708</td>\n",
       "      <td>2.39</td>\n",
       "      <td>7.20</td>\n",
       "      <td>130.518546</td>\n",
       "      <td>-89.460502</td>\n",
       "      <td>1.712</td>\n",
       "    </tr>\n",
       "    <tr>\n",
       "      <th>3</th>\n",
       "      <td>HIP 78866</td>\n",
       "      <td>11.95</td>\n",
       "      <td>7.83</td>\n",
       "      <td>241.481011</td>\n",
       "      <td>-89.308449</td>\n",
       "      <td>0.412</td>\n",
       "    </tr>\n",
       "    <tr>\n",
       "      <th>4</th>\n",
       "      <td>HIP 22645</td>\n",
       "      <td>4.42</td>\n",
       "      <td>8.86</td>\n",
       "      <td>73.084128</td>\n",
       "      <td>-89.273961</td>\n",
       "      <td>0.260</td>\n",
       "    </tr>\n",
       "  </tbody>\n",
       "</table>\n",
       "</div>"
      ],
      "text/plain": [
       "         name  parallax  vmag      ra_deg    dec_deg  bv_color\n",
       "0  HIP 48752       4.17  7.84  149.167261 -89.782454     0.097\n",
       "1  HIP 71348       2.08  6.82  218.878316 -89.771696     1.698\n",
       "2  HIP 42708       2.39  7.20  130.518546 -89.460502     1.712\n",
       "3  HIP 78866      11.95  7.83  241.481011 -89.308449     0.412\n",
       "4  HIP 22645       4.42  8.86   73.084128 -89.273961     0.260"
      ]
     },
     "execution_count": 2,
     "metadata": {},
     "output_type": "execute_result"
    }
   ],
   "source": [
    "hip = pd.read_table(\"BrowseTargets.13041.1545121565\", sep=\"|\", header=2, usecols=range(1, 7), skipinitialspace=True)\n",
    "hip.head()"
   ]
  },
  {
   "cell_type": "markdown",
   "metadata": {},
   "source": [
    "# 欠損値処理\n",
    "各項目の欠損値の数"
   ]
  },
  {
   "cell_type": "code",
   "execution_count": 3,
   "metadata": {},
   "outputs": [
    {
     "data": {
      "text/plain": [
       "name           0\n",
       "parallax     263\n",
       "vmag           1\n",
       "ra_deg       263\n",
       "dec_deg      263\n",
       "bv_color    1281\n",
       "dtype: int64"
      ]
     },
     "execution_count": 3,
     "metadata": {},
     "output_type": "execute_result"
    }
   ],
   "source": [
    "hip.isnull().sum()"
   ]
  },
  {
   "cell_type": "markdown",
   "metadata": {},
   "source": [
    "Parallaxが0以下の星は除外する。"
   ]
  },
  {
   "cell_type": "code",
   "execution_count": 4,
   "metadata": {},
   "outputs": [],
   "source": [
    "hip = hip[(hip[\"parallax\"] > 0)]"
   ]
  },
  {
   "cell_type": "markdown",
   "metadata": {},
   "source": [
    "bv_colorはなんか適当に埋めてみる。  \n",
    "とりあえず中央値で埋める。"
   ]
  },
  {
   "cell_type": "code",
   "execution_count": 5,
   "metadata": {},
   "outputs": [],
   "source": [
    "hip[\"bv_color\"] = hip[\"bv_color\"].fillna(hip[\"bv_color\"].median())"
   ]
  },
  {
   "cell_type": "markdown",
   "metadata": {},
   "source": [
    "欠けたデータを除外した後の星の数"
   ]
  },
  {
   "cell_type": "code",
   "execution_count": 6,
   "metadata": {},
   "outputs": [
    {
     "data": {
      "text/plain": [
       "113710"
      ]
     },
     "execution_count": 6,
     "metadata": {},
     "output_type": "execute_result"
    }
   ],
   "source": [
    "len(hip)"
   ]
  },
  {
   "cell_type": "markdown",
   "metadata": {},
   "source": [
    "# 座標変換\n",
    "年周視差([parallax](https://heasarc.gsfc.nasa.gov/W3Browse/star-catalog/hipparcos.html#parallax)) $pi$と距離(parsec) $D$の関係は$D = 1000 / pi$。1 parsecは3.26光年。  \n",
    "球座標系を直交座標系に変換する式はこんな感じになるはず。\n",
    "\n",
    "$$\n",
    "\\begin{eqnarray}\n",
    "x &=& \\dfrac {1000}{P_{parallax}}\\cos \\theta_{dec} \\cos \\phi_{ra} \\\\\n",
    "y &=& \\dfrac {1000}{P_{parallax}}\\cos \\theta_{dec} \\sin \\phi_{ra} \\\\\n",
    "z &=& \\dfrac {1000}{P_{parallax}}\\sin \\theta_{dec}\n",
    "\\end{eqnarray}\n",
    "$$"
   ]
  },
  {
   "cell_type": "code",
   "execution_count": 7,
   "metadata": {},
   "outputs": [],
   "source": [
    "pos = np.empty((0, 3), dtype = \"float32\")\n",
    "\n",
    "for index, i in hip.iterrows():\n",
    "    x = 1000 / i[\"parallax\"] * np.cos(np.deg2rad(i[\"dec_deg\"])) * np.cos(np.deg2rad(i[\"ra_deg\"]))\n",
    "    y = 1000 / i[\"parallax\"] * np.cos(np.deg2rad(i[\"dec_deg\"])) * np.sin(np.deg2rad(i[\"ra_deg\"]))\n",
    "    z = 1000 / i[\"parallax\"] * np.sin(np.deg2rad(i[\"dec_deg\"]))\n",
    "    pos = np.append(pos, np.array([[x, y, z]], dtype = \"float32\"), axis=0)"
   ]
  },
  {
   "cell_type": "code",
   "execution_count": 8,
   "metadata": {},
   "outputs": [
    {
     "data": {
      "image/png": "[encoded data removed]",
      "text/plain": [
       "<Figure size 576x576 with 1 Axes>"
      ]
     },
     "metadata": {
      "needs_background": "light"
     },
     "output_type": "display_data"
    }
   ],
   "source": [
    "fig = plt.figure(figsize=(8,8))\n",
    "ax = fig.add_subplot(1,1,1)\n",
    "ax.set_xlim(-100000,100000)\n",
    "ax.set_ylim(-100000,100000)\n",
    "\n",
    "ax.scatter(pos[0:,0], pos[0:,1])\n",
    "\n",
    "ax.set_title('first scatter plot')\n",
    "ax.set_xlabel('x')\n",
    "ax.set_ylabel('y')\n",
    "\n",
    "plt.show()"
   ]
  },
  {
   "cell_type": "code",
   "execution_count": 9,
   "metadata": {
    "scrolled": true
   },
   "outputs": [],
   "source": [
    "r = np.empty((2, 0, 3))\n",
    "c = np.empty((0, 2048, 3))\n",
    "\n",
    "count = 0\n",
    "\n",
    "for p in pos:\n",
    "    a = np.empty((2, 2, 0))\n",
    "    \n",
    "    for xyz in p:\n",
    "        xs = struct.pack('>f', xyz)\n",
    "        xn = struct.unpack('>L', xs)[0]\n",
    "        b = np.array([[[xn >> 0 & 0xff],[xn >> 8 & 0xff]],\n",
    "                      [[xn >> 16 & 0xff],[xn >> 24 & 0xff]]])\n",
    "        a = np.append(a, b, axis=2)\n",
    "    \n",
    "    r = np.append(r, a, axis=1)\n",
    "    count+=1\n",
    "    \n",
    "    if count > 1023:\n",
    "        c = np.append(c, r, axis=0)\n",
    "        r = np.empty((2, 0, 3))\n",
    "        count = 0\n",
    "\n",
    "r = np.pad(r, ((0,0),(0,2048 - r.shape[1]),(0,0)), \"constant\")\n",
    "c = np.append(c, r, axis=0) "
   ]
  },
  {
   "cell_type": "code",
   "execution_count": 10,
   "metadata": {},
   "outputs": [],
   "source": [
    "pos_tex = np.pad(c, ((0,2048 - c.shape[0]),(0,0),(0,0)), \"constant\")\n",
    "pos_tex = Image.fromarray(np.uint8(np.round(pos_tex)))\n",
    "pos_tex.save(\"texture/pos_tex.png\")"
   ]
  },
  {
   "cell_type": "markdown",
   "metadata": {},
   "source": [
    "# 絶対等級\n",
    "[絶対等級](https://bit.ly/2A1RmtT)$M$は視等級$m$と年周視差$\\pi$(秒)から計算できる。\n",
    "\n",
    "$$\n",
    "M=m-5\\left( \\log _{10} \\pi +1\\right)\n",
    "$$"
   ]
  },
  {
   "cell_type": "code",
   "execution_count": 11,
   "metadata": {},
   "outputs": [],
   "source": [
    "abs_mag = np.empty((0, 1))\n",
    "\n",
    "for index, i in hip.iterrows():\n",
    "    M = i[\"vmag\"] - 5 * (np.log10(i[\"parallax\"]) / 1000 + 1)\n",
    "    abs_mag = np.append(abs_mag, np.array([[M]]), axis=0)"
   ]
  },
  {
   "cell_type": "code",
   "execution_count": 12,
   "metadata": {},
   "outputs": [],
   "source": [
    "abs_mag_tex = (abs_mag - abs_mag.min()) / (abs_mag.max() - abs_mag.min()) * 255\n",
    "abs_mag_tex = np.pad(abs_mag_tex, ((0,1024 ** 2 - len(abs_mag_tex)),(0,0)), \"constant\")\n",
    "abs_mag_tex = np.reshape(abs_mag_tex, (1024, 1024))\n",
    "abs_mag_tex = Image.fromarray(np.uint8(np.round(abs_mag_tex)))\n",
    "abs_mag_tex.save(\"texture/abs_mag_tex.png\")"
   ]
  },
  {
   "cell_type": "markdown",
   "metadata": {},
   "source": [
    "# 星の描画サイズ計算\n",
    "視等級$m$が1減るごとに面積が2.512倍され、年周視差に直径が反比例するように計算してみる。\n",
    "\n",
    "$$\n",
    "R = \\dfrac {\\sqrt{2.512^{-m}}}{P_{parallax}}\n",
    "$$"
   ]
  },
  {
   "cell_type": "code",
   "execution_count": 13,
   "metadata": {},
   "outputs": [],
   "source": [
    "v_mag = np.empty((0, 1))\n",
    "\n",
    "for index, i in hip.iterrows():\n",
    "    R = np.sqrt(2.512 ** (- i[\"vmag\"])) / i[\"parallax\"]\n",
    "    v_mag = np.append(v_mag, np.array([[R]]), axis=0)"
   ]
  },
  {
   "cell_type": "code",
   "execution_count": 14,
   "metadata": {},
   "outputs": [],
   "source": [
    "v_mag_uint24 = (v_mag - v_mag.min()) / (v_mag.max() - v_mag.min()) * 16777215\n",
    "v_mag_uint24 = v_mag_uint24.astype(np.uint32)\n",
    "\n",
    "v_mag_pack = np.empty((0, 3))\n",
    "\n",
    "for i in v_mag_uint24:\n",
    "    pack = np.array([[i[0] >> 16 & 0xff, i[0] >> 8 & 0xff, i[0] >> 0 & 0xff]])\n",
    "    v_mag_pack = np.append(v_mag_pack, pack, axis=0)\n",
    "\n",
    "v_mag_tex = np.pad(v_mag_pack, ((0,1024 ** 2 - len(v_mag_pack)),(0,0)), \"constant\")\n",
    "v_mag_tex = np.reshape(v_mag_tex, (1024, 1024, 3))\n",
    "v_mag_tex = Image.fromarray(np.uint8(np.round(v_mag_tex)))\n",
    "v_mag_tex.save(\"texture/v_mag_tex.png\")"
   ]
  },
  {
   "cell_type": "markdown",
   "metadata": {},
   "source": [
    "# 星の色\n",
    "bv_colorからRGBに変換する。  \n",
    "[Star B-V color index to apparent RGB color - stackoverflow](https://stackoverflow.com/questions/21977786/star-b-v-color-index-to-apparent-rgb-color)でまとめられている数式を使ってみる。"
   ]
  },
  {
   "cell_type": "code",
   "execution_count": 15,
   "metadata": {},
   "outputs": [],
   "source": [
    "color = np.empty((0, 3))\n",
    "\n",
    "A = np.array([[3.2406, -1.5372, -0.4986],\n",
    "              [-0.9689, 1.8758, 0.0415],\n",
    "              [0.0557, -0.204, 1.057]])\n",
    "\n",
    "for index, i in hip.iterrows():\n",
    "    # B-V to Kelvin\n",
    "    t = 4600 * (1 / (0.92 * i[\"bv_color\"] + 1.7) + 1 / (0.92 * i[\"bv_color\"] + 0.62))\n",
    "    \n",
    "    # Kelvin to xyY\n",
    "    if t <= 4000:\n",
    "        x = ((-0.2661239 * pow(10,9)) / pow(t,3)) + ((-0.2343580 * pow(10,6)) / pow(t,2)) + ((0.8776956 * pow(10,3)) / t) + 0.179910\n",
    "        \n",
    "    else:\n",
    "        x = ((-3.0258469 * pow(10,9)) / pow(t,3)) + ((2.1070379 * pow(10,6)) / pow(t,2)) + ((0.2226347 * pow(10,3)) / t) + 0.240390\n",
    "        \n",
    "    if t <= 2222:\n",
    "        y = -1.1063814 * pow(x,3) - 1.34811020 * pow(x,2) + 2.18555832 * x - 0.20219683\n",
    "        \n",
    "    elif t <= 4000:\n",
    "        y = -0.9549476 * pow(x,3) - 1.37418593 * pow(x,2) + 2.09137015 * x - 0.16748867\n",
    "        \n",
    "    else:\n",
    "        y = 3.0817580 * pow(x,3) - 5.87338670 * pow(x,2) + 3.75112997 * x - 0.37001483\n",
    "        \n",
    "    # xyY to XYZ\n",
    "    if y == 0:\n",
    "        Y = 0\n",
    "        X = 0\n",
    "        Z = 0\n",
    "    else:\n",
    "        Y = 1\n",
    "        X = (x * Y) / y\n",
    "        Z = (1 - x - y) * Y / y\n",
    "        \n",
    "    XYZ = np.array([[X],\n",
    "                    [Y],\n",
    "                    [Z]])\n",
    "    \n",
    "    # XYZ to RGB\n",
    "    rgb = A.dot(XYZ).T\n",
    "    \n",
    "    # RGB to sRGB\n",
    "    for c in range(3):\n",
    "        if rgb[0][c] <= 0.0031308:\n",
    "            rgb[0][c] = 12.92 * rgb[0][c]\n",
    "        else:\n",
    "            rgb[0][c] = 1.055 * pow(rgb[0][c], 2) - 0.055\n",
    "\n",
    "    color = np.append(color, rgb, axis=0)\n",
    "    \n",
    "color = np.clip(color * 255, 0, 255)"
   ]
  },
  {
   "cell_type": "code",
   "execution_count": 16,
   "metadata": {},
   "outputs": [],
   "source": [
    "color_tex = np.pad(color, ((0,1024 ** 2 - len(color)),(0,0)), \"constant\")\n",
    "color_tex = np.reshape(color_tex, (1024, 1024, 3))\n",
    "color_tex = Image.fromarray(np.uint8(np.round(color_tex)))\n",
    "color_tex.save(\"texture/color_tex.png\")"
   ]
  },
  {
   "cell_type": "markdown",
   "metadata": {},
   "source": [
    "# メモ\n",
    "検算用"
   ]
  },
  {
   "cell_type": "code",
   "execution_count": 17,
   "metadata": {},
   "outputs": [],
   "source": [
    "pos_tex = Image.open(\"texture/pos_tex.png\")\n",
    "pos_tex = np.asarray(pos_tex)"
   ]
  },
  {
   "cell_type": "code",
   "execution_count": 18,
   "metadata": {},
   "outputs": [],
   "source": [
    "u = 0 * 2\n",
    "v = 0 * 2\n",
    "v1 = np.array(pos_tex[u][v], dtype = \"int\") << 0\n",
    "v1 += np.array(pos_tex[u][v+1], dtype = \"int\") << 8\n",
    "v1 += np.array(pos_tex[u+1][v], dtype = \"int\") << 16\n",
    "v1 += np.array(pos_tex[u+1][v+1], dtype = \"int\") << 24"
   ]
  },
  {
   "cell_type": "code",
   "execution_count": 19,
   "metadata": {
    "scrolled": false
   },
   "outputs": [
    {
     "name": "stdout",
     "output_type": "stream",
     "text": [
      "0xbf482682\n",
      "0x3eeeeff4\n",
      "0xc36fce72\n"
     ]
    }
   ],
   "source": [
    "print(hex(v1[0]))\n",
    "print(hex(v1[1]))\n",
    "print(hex(v1[2]))"
   ]
  },
  {
   "cell_type": "code",
   "execution_count": 20,
   "metadata": {},
   "outputs": [
    {
     "data": {
      "text/plain": [
       "array([  -0.7818376 ,    0.46667445, -239.80643   ], dtype=float32)"
      ]
     },
     "execution_count": 20,
     "metadata": {},
     "output_type": "execute_result"
    }
   ],
   "source": [
    "pos[0]"
   ]
  }
 ],
 "metadata": {
  "kernelspec": {
   "display_name": "Python 3",
   "language": "python",
   "name": "python3"
  },
  "language_info": {
   "codemirror_mode": {
    "name": "ipython",
    "version": 3
   },
   "file_extension": ".py",
   "mimetype": "text/x-python",
   "name": "python",
   "nbconvert_exporter": "python",
   "pygments_lexer": "ipython3",
   "version": "3.7.0"
  }
 },
 "nbformat": 4,
 "nbformat_minor": 2
}
