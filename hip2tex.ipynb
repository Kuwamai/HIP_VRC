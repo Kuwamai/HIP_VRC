{
 "cells": [
  {
   "cell_type": "markdown",
   "metadata": {},
   "source": [
    "# hip2tex\n",
    "ヒッパルコス星表のデータをいい感じに処理して、Shaderで表示するためのテクスチャに変換したい。"
   ]
  },
  {
   "cell_type": "code",
   "execution_count": 1,
   "metadata": {},
   "outputs": [],
   "source": [
    "import pandas as pd\n",
    "import numpy as np\n",
    "import matplotlib.pyplot as plt"
   ]
  },
  {
   "cell_type": "code",
   "execution_count": 2,
   "metadata": {},
   "outputs": [
    {
     "data": {
      "text/html": [
       "<div>\n",
       "<style scoped>\n",
       "    .dataframe tbody tr th:only-of-type {\n",
       "        vertical-align: middle;\n",
       "    }\n",
       "\n",
       "    .dataframe tbody tr th {\n",
       "        vertical-align: top;\n",
       "    }\n",
       "\n",
       "    .dataframe thead th {\n",
       "        text-align: right;\n",
       "    }\n",
       "</style>\n",
       "<table border=\"1\" class=\"dataframe\">\n",
       "  <thead>\n",
       "    <tr style=\"text-align: right;\">\n",
       "      <th></th>\n",
       "      <th>name</th>\n",
       "      <th>parallax</th>\n",
       "      <th>vmag</th>\n",
       "      <th>ra_deg</th>\n",
       "      <th>dec_deg</th>\n",
       "      <th>bv_color</th>\n",
       "    </tr>\n",
       "  </thead>\n",
       "  <tbody>\n",
       "    <tr>\n",
       "      <th>0</th>\n",
       "      <td>HIP 48752</td>\n",
       "      <td>4.17</td>\n",
       "      <td>7.84</td>\n",
       "      <td>149.167261</td>\n",
       "      <td>-89.782454</td>\n",
       "      <td>0.097</td>\n",
       "    </tr>\n",
       "    <tr>\n",
       "      <th>1</th>\n",
       "      <td>HIP 71348</td>\n",
       "      <td>2.08</td>\n",
       "      <td>6.82</td>\n",
       "      <td>218.878316</td>\n",
       "      <td>-89.771696</td>\n",
       "      <td>1.698</td>\n",
       "    </tr>\n",
       "    <tr>\n",
       "      <th>2</th>\n",
       "      <td>HIP 42708</td>\n",
       "      <td>2.39</td>\n",
       "      <td>7.20</td>\n",
       "      <td>130.518546</td>\n",
       "      <td>-89.460502</td>\n",
       "      <td>1.712</td>\n",
       "    </tr>\n",
       "    <tr>\n",
       "      <th>3</th>\n",
       "      <td>HIP 78866</td>\n",
       "      <td>11.95</td>\n",
       "      <td>7.83</td>\n",
       "      <td>241.481011</td>\n",
       "      <td>-89.308449</td>\n",
       "      <td>0.412</td>\n",
       "    </tr>\n",
       "    <tr>\n",
       "      <th>4</th>\n",
       "      <td>HIP 22645</td>\n",
       "      <td>4.42</td>\n",
       "      <td>8.86</td>\n",
       "      <td>73.084128</td>\n",
       "      <td>-89.273961</td>\n",
       "      <td>0.260</td>\n",
       "    </tr>\n",
       "  </tbody>\n",
       "</table>\n",
       "</div>"
      ],
      "text/plain": [
       "         name  parallax  vmag      ra_deg    dec_deg  bv_color\n",
       "0  HIP 48752       4.17  7.84  149.167261 -89.782454     0.097\n",
       "1  HIP 71348       2.08  6.82  218.878316 -89.771696     1.698\n",
       "2  HIP 42708       2.39  7.20  130.518546 -89.460502     1.712\n",
       "3  HIP 78866      11.95  7.83  241.481011 -89.308449     0.412\n",
       "4  HIP 22645       4.42  8.86   73.084128 -89.273961     0.260"
      ]
     },
     "execution_count": 2,
     "metadata": {},
     "output_type": "execute_result"
    }
   ],
   "source": [
    "hip = pd.read_table(\"BrowseTargets.13041.1545121565\", sep=\"|\", header=2, usecols=range(1, 7), skipinitialspace=True)\n",
    "hip.head()"
   ]
  },
  {
   "cell_type": "markdown",
   "metadata": {},
   "source": [
    "# 欠損値処理\n",
    "各項目の欠損値の数"
   ]
  },
  {
   "cell_type": "code",
   "execution_count": 3,
   "metadata": {},
   "outputs": [
    {
     "data": {
      "text/plain": [
       "name           0\n",
       "parallax     263\n",
       "vmag           1\n",
       "ra_deg       263\n",
       "dec_deg      263\n",
       "bv_color    1281\n",
       "dtype: int64"
      ]
     },
     "execution_count": 3,
     "metadata": {},
     "output_type": "execute_result"
    }
   ],
   "source": [
    "hip.isnull().sum()"
   ]
  },
  {
   "cell_type": "markdown",
   "metadata": {},
   "source": [
    "距離、方向が欠損したものは除去する。"
   ]
  },
  {
   "cell_type": "code",
   "execution_count": 4,
   "metadata": {},
   "outputs": [],
   "source": [
    "hip = hip.dropna(subset=[\"parallax\"])"
   ]
  },
  {
   "cell_type": "markdown",
   "metadata": {},
   "source": [
    "bv_colorはなんか適当に埋めてみる。  \n",
    "とりあえず中央値で埋める。"
   ]
  },
  {
   "cell_type": "code",
   "execution_count": 5,
   "metadata": {},
   "outputs": [],
   "source": [
    "hip[\"bv_color\"] = hip[\"bv_color\"].fillna(hip[\"bv_color\"].median())"
   ]
  },
  {
   "cell_type": "markdown",
   "metadata": {},
   "source": [
    "# 座標変換\n",
    "年周視差([parallax](https://heasarc.gsfc.nasa.gov/W3Browse/star-catalog/hipparcos.html#parallax)) $pi$と距離(parsec) $D$の関係は$D = 1000 / pi$。1 parsecは3.26光年。  \n",
    "球座標系を直交座標系に変換する式はこんな感じになるはず。\n",
    "\n",
    "$$\n",
    "\\begin{eqnarray}\n",
    "x &=& \\dfrac {1}{parallax}\\cos dec \\cos ra \\\\\n",
    "y &=& \\dfrac {1}{parallax}\\cos dec \\sin ra \\\\\n",
    "z &=& \\dfrac {1}{parallax}\\sin dec\n",
    "\\end{eqnarray}\n",
    "$$"
   ]
  },
  {
   "cell_type": "code",
   "execution_count": 6,
   "metadata": {},
   "outputs": [],
   "source": [
    "pos = np.empty((0, 3))\n",
    "\n",
    "for index, i in hip.iterrows():\n",
    "    if i[\"parallax\"] != 0:\n",
    "        x = 1 / i[\"parallax\"] * np.cos(np.deg2rad(i[\"dec_deg\"])) * np.cos(np.deg2rad(i[\"ra_deg\"]))\n",
    "        y = 1 / i[\"parallax\"] * np.cos(np.deg2rad(i[\"dec_deg\"])) * np.sin(np.deg2rad(i[\"ra_deg\"]))\n",
    "        z = 1 / i[\"parallax\"] * np.sin(np.deg2rad(i[\"dec_deg\"]))\n",
    "        pos = np.append(pos, np.array([[x, y, z]]), axis=0)"
   ]
  },
  {
   "cell_type": "code",
   "execution_count": 7,
   "metadata": {},
   "outputs": [
    {
     "data": {
      "image/png": "[encoded data removed]",
      "text/plain": [
       "<Figure size 576x576 with 1 Axes>"
      ]
     },
     "metadata": {
      "needs_background": "light"
     },
     "output_type": "display_data"
    }
   ],
   "source": [
    "fig = plt.figure(figsize=(8,8))\n",
    "ax = fig.add_subplot(1,1,1)\n",
    "ax.set_xlim(-100,100)\n",
    "ax.set_ylim(-100,100)\n",
    "\n",
    "ax.scatter(pos[0:,0], pos[0:,1])\n",
    "\n",
    "ax.set_title('first scatter plot')\n",
    "ax.set_xlabel('x')\n",
    "ax.set_ylabel('y')\n",
    "\n",
    "plt.show()"
   ]
  },
  {
   "cell_type": "markdown",
   "metadata": {},
   "source": [
    "# 絶対等級\n",
    "[絶対等級](https://bit.ly/2A1RmtT)$M$は視等級$m$と年周視差$\\pi$から計算できる。\n",
    "\n",
    "$$\n",
    "M=m-5\\left( \\log _{10} \\pi +1\\right)\n",
    "$$"
   ]
  },
  {
   "cell_type": "code",
   "execution_count": 16,
   "metadata": {},
   "outputs": [],
   "source": [
    "abs_mag = np.empty((0, 1))\n",
    "for index, i in hip.iterrows():\n",
    "    if i[\"parallax\"] != 0:\n",
    "        M = i[\"vmag\"] - 5 * (np.log10(np.abs(i[\"parallax\"])) / 1000 + 1)\n",
    "        abs_mag = np.append(abs_mag, np.array([[M]]), axis=0)"
   ]
  },
  {
   "cell_type": "code",
   "execution_count": 13,
   "metadata": {},
   "outputs": [
    {
     "data": {
      "text/plain": [
       "name        HIP 1     \n",
       "parallax        -54.95\n",
       "vmag             -1.44\n",
       "ra_deg      0.00091185\n",
       "dec_deg       -89.7825\n",
       "bv_color          -0.4\n",
       "dtype: object"
      ]
     },
     "execution_count": 13,
     "metadata": {},
     "output_type": "execute_result"
    }
   ],
   "source": [
    "hip.min()"
   ]
  },
  {
   "cell_type": "code",
   "execution_count": null,
   "metadata": {},
   "outputs": [],
   "source": []
  }
 ],
 "metadata": {
  "kernelspec": {
   "display_name": "Python 3",
   "language": "python",
   "name": "python3"
  },
  "language_info": {
   "codemirror_mode": {
    "name": "ipython",
    "version": 3
   },
   "file_extension": ".py",
   "mimetype": "text/x-python",
   "name": "python",
   "nbconvert_exporter": "python",
   "pygments_lexer": "ipython3",
   "version": "3.7.0"
  }
 },
 "nbformat": 4,
 "nbformat_minor": 2
}
